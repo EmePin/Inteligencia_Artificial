{
  "nbformat": 4,
  "nbformat_minor": 0,
  "metadata": {
    "colab": {
      "provenance": [],
      "collapsed_sections": [
        "vnzIhoD-3_qT"
      ],
      "authorship_tag": "ABX9TyNjP3sPrZJHdwSWHX1AT5BV",
      "include_colab_link": true
    },
    "kernelspec": {
      "name": "python3",
      "display_name": "Python 3"
    },
    "language_info": {
      "name": "python"
    }
  },
  "cells": [
    {
      "cell_type": "markdown",
      "metadata": {
        "id": "view-in-github",
        "colab_type": "text"
      },
      "source": [
        "<a href=\"https://colab.research.google.com/github/EmePin/Inteligencia_Artificial/blob/main/red_neuronal_C_F.ipynb\" target=\"_parent\"><img src=\"https://colab.research.google.com/assets/colab-badge.svg\" alt=\"Open In Colab\"/></a>"
      ]
    },
    {
      "cell_type": "markdown",
      "source": [
        "# ***REDES NEURONALES***"
      ],
      "metadata": {
        "id": "I_nYT8YqttYl"
      }
    },
    {
      "cell_type": "markdown",
      "source": [
        "## ***INTRODUCCIÓN***"
      ],
      "metadata": {
        "id": "vnzIhoD-3_qT"
      }
    },
    {
      "cell_type": "markdown",
      "source": [
        "HOLA"
      ],
      "metadata": {
        "id": "7PmP32VD4Jkv"
      }
    },
    {
      "cell_type": "markdown",
      "source": [
        "## ***RED NEURONAL PARA CONVERTIR GRADOS CELSIUS EN FAHRENHEIT***"
      ],
      "metadata": {
        "id": "PRHHWsraJ2hl"
      }
    },
    {
      "cell_type": "markdown",
      "source": [
        "importamos \n",
        "\n",
        "1.   tensor flow: librería para inteligencia artificial hecha por google.\n",
        "2.   numpy: permite trabajar fácilmente con arreglos numéricos."
      ],
      "metadata": {
        "id": "IFk4pWSQpRkz"
      }
    },
    {
      "cell_type": "code",
      "execution_count": 1,
      "metadata": {
        "id": "Mb7tkBZspJd4"
      },
      "outputs": [],
      "source": [
        "import tensorflow as tf\n",
        "import numpy as np"
      ]
    },
    {
      "cell_type": "markdown",
      "source": [
        "Declaramos un arreglo de números con 7 entradas de grados Celsius y declaramos otro más con los resultados de su equivalencia en fahrenheit."
      ],
      "metadata": {
        "id": "1AF88UwmpQXG"
      }
    },
    {
      "cell_type": "code",
      "source": [
        "celsius = np.array([-40, -10, 0, 8, 15, 22, 38], dtype=float)\n",
        "fahrenheit = np.array([-40, 14, 32, 46, 59, 72, 100], dtype=float)"
      ],
      "metadata": {
        "id": "A8Or55jcpuGm"
      },
      "execution_count": 2,
      "outputs": []
    },
    {
      "cell_type": "markdown",
      "source": [
        "Creamos una variable llamada capa y la iniciaremos como una capa tipo densa, las capas densas son las capas que tienen conexiones desde cada neurona hacia\n",
        "todas las neuronas de la siguiente capa. Y usaremos el modelo secuencial."
      ],
      "metadata": {
        "id": "Dqlkf7EK4yt5"
      }
    },
    {
      "cell_type": "code",
      "source": [
        "capa = tf.keras.layers.Dense(units=1, input_shape=[1])\n",
        "modelo = tf.keras.Sequential([capa])\n",
        "\n",
        "#oculta1 = tf.keras.layers.Dense(units=3, input_shape=[1])\n",
        "#oculta2 = tf.keras.layers.Dense(units=3)\n",
        "#salida = tf.keras.layers.Dense(units=1)\n",
        "#modelo = tf.keras.Sequential([oculta1, oculta2, salida])"
      ],
      "metadata": {
        "id": "0vrG_crH5R46"
      },
      "execution_count": 3,
      "outputs": []
    },
    {
      "cell_type": "markdown",
      "source": [
        "Ahora crearemos el modelo de entrenamiento usando el optimizador Adam para que aprende y no desaprenda."
      ],
      "metadata": {
        "id": "DO-hKNDN5ieK"
      }
    },
    {
      "cell_type": "code",
      "source": [
        "modelo.compile(\n",
        "    optimizer=tf.keras.optimizers.Adam(0.1),\n",
        "    loss='mean_squared_error'\n",
        ")"
      ],
      "metadata": {
        "id": "97eWdsD25lcV"
      },
      "execution_count": 4,
      "outputs": []
    },
    {
      "cell_type": "code",
      "source": [
        "print(\"Comenzando entrenamiento...\")\n",
        "historial = modelo.fit(celsius, fahrenheit, epochs=1000, verbose=False)\n",
        "print(\"Modelo entrenado!\")"
      ],
      "metadata": {
        "colab": {
          "base_uri": "https://localhost:8080/"
        },
        "id": "ku-XzjE16PmU",
        "outputId": "133c1d8b-1985-4f2d-a470-eb8c5a4182ef"
      },
      "execution_count": 5,
      "outputs": [
        {
          "output_type": "stream",
          "name": "stdout",
          "text": [
            "Comenzando entrenamiento...\n",
            "Modelo entrenado!\n"
          ]
        }
      ]
    },
    {
      "cell_type": "markdown",
      "source": [
        "Antes de intentar predecir veamos los resultados de la función de pérdida. Esta\n",
        "función básicamente nos dice qué tan mal están los resultados de la red en cada\n",
        "vuelta que dió."
      ],
      "metadata": {
        "id": "cPaph8io6eOh"
      }
    },
    {
      "cell_type": "code",
      "source": [
        "import matplotlib.pyplot as plt\n",
        "plt.xlabel(\"# Epoca\")\n",
        "plt.ylabel(\"Magnitud de pérdida\")\n",
        "plt.plot(historial.history[\"loss\"])"
      ],
      "metadata": {
        "colab": {
          "base_uri": "https://localhost:8080/",
          "height": 296
        },
        "id": "b8K3u1Yw6qdK",
        "outputId": "c5f439e3-d08e-47ee-9ee9-e706dc3eaf77"
      },
      "execution_count": 6,
      "outputs": [
        {
          "output_type": "execute_result",
          "data": {
            "text/plain": [
              "[<matplotlib.lines.Line2D at 0x7f9bb39b8110>]"
            ]
          },
          "metadata": {},
          "execution_count": 6
        },
        {
          "output_type": "display_data",
          "data": {
            "text/plain": [
              "<Figure size 432x288 with 1 Axes>"
            ],
            "image/png": "[encoded data removed]"
          },
          "metadata": {
            "needs_background": "light"
          }
        }
      ]
    },
    {
      "cell_type": "markdown",
      "source": [
        "Ahora sí, Hagámos una predicción 🔮 --> ¿Cuántos grados Fahrenheit con 100 grados Celsius?"
      ],
      "metadata": {
        "id": "DTsQiiNm7cbU"
      }
    },
    {
      "cell_type": "code",
      "source": [
        "print(\"Hagamos una predicción!\")\n",
        "resultado = modelo.predict([100.0])\n",
        "print(\"El resultado es \" + str(resultado) + \" fahrenheit!\")"
      ],
      "metadata": {
        "colab": {
          "base_uri": "https://localhost:8080/"
        },
        "id": "uH7_KvTm7vJB",
        "outputId": "f4a906c8-49eb-44c6-d359-7d6a9ee2203d"
      },
      "execution_count": 7,
      "outputs": [
        {
          "output_type": "stream",
          "name": "stdout",
          "text": [
            "Hagamos una predicción!\n",
            "1/1 [==============================] - 0s 268ms/step\n",
            "El resultado es [[211.74129]] fahrenheit!\n"
          ]
        }
      ]
    },
    {
      "cell_type": "markdown",
      "source": [
        "Veamos cómo lo hizo sin nosotros pasarle la fórmula --> F=C*1.8+32"
      ],
      "metadata": {
        "id": "ZclHORbx9aDL"
      }
    },
    {
      "cell_type": "code",
      "source": [
        "print(\"Variables internas del modelo\")\n",
        "print(capa.get_weights())\n",
        "#print(oculta1.get_weights())\n",
        "#print(oculta2.get_weights())\n",
        "#print(salida.get_weights())"
      ],
      "metadata": {
        "colab": {
          "base_uri": "https://localhost:8080/"
        },
        "id": "tn3AF2jS9fwq",
        "outputId": "105588f9-1825-40f8-eb14-029caee0b745"
      },
      "execution_count": 8,
      "outputs": [
        {
          "output_type": "stream",
          "name": "stdout",
          "text": [
            "Variables internas del modelo\n",
            "[array([[1.7983401]], dtype=float32), array([31.907267], dtype=float32)]\n"
          ]
        }
      ]
    },
    {
      "cell_type": "markdown",
      "source": [
        "Todo el código anterior quedaría así:"
      ],
      "metadata": {
        "id": "NkIJAEdl_TSm"
      }
    },
    {
      "cell_type": "code",
      "source": [
        "import tensorflow as tf\n",
        "import numpy as np\n",
        "import matplotlib.pyplot as plt\n",
        "\n",
        "celsius = np.array([-40, -10, 0, 8, 15, 22, 38], dtype=float)\n",
        "fahrenheit = np.array([-40, 14, 32, 46, 59, 72, 100], dtype=float)\n",
        "\n",
        "capa = tf.keras.layers.Dense(units=1, input_shape=[1])\n",
        "modelo = tf.keras.Sequential([capa])\n",
        "\n",
        "modelo.compile(\n",
        "    optimizer=tf.keras.optimizers.Adam(0.1),\n",
        "    loss='mean_squared_error'\n",
        ")\n",
        "\n",
        "print(\"Comenzando entrenamiento...\")\n",
        "historial = modelo.fit(celsius, fahrenheit, epochs=1000, verbose=False)\n",
        "print(\"Modelo entrenado!\")\n",
        "\n",
        "\n",
        "plt.xlabel(\"# Epoca\")\n",
        "plt.ylabel(\"Magnitud de pérdida\")\n",
        "plt.plot(historial.history[\"loss\"])\n",
        "\n",
        "print(\"Hagamos una predicción!\")\n",
        "resultado = modelo.predict([100.0])\n",
        "print(\"El resultado es 👀👀👀👀👀\" + str(resultado) + \" fahrenheit!\")\n",
        "\n",
        "print(\"Variables internas del modelo\")\n",
        "print(capa.get_weights())"
      ],
      "metadata": {
        "colab": {
          "base_uri": "https://localhost:8080/",
          "height": 401
        },
        "id": "sPy05Jnt_Wlp",
        "outputId": "80dca65c-f77a-450e-8591-0107a780bdb5"
      },
      "execution_count": 9,
      "outputs": [
        {
          "output_type": "stream",
          "name": "stdout",
          "text": [
            "Comenzando entrenamiento...\n",
            "Modelo entrenado!\n",
            "Hagamos una predicción!\n",
            "1/1 [==============================] - 0s 46ms/step\n",
            "El resultado es 👀👀👀👀👀[[211.74095]] fahrenheit!\n",
            "Variables internas del modelo\n",
            "[array([[1.798366]], dtype=float32), array([31.904358], dtype=float32)]\n"
          ]
        },
        {
          "output_type": "display_data",
          "data": {
            "text/plain": [
              "<Figure size 432x288 with 1 Axes>"
            ],
            "image/png": "[encoded data removed]"
          },
          "metadata": {
            "needs_background": "light"
          }
        }
      ]
    },
    {
      "cell_type": "markdown",
      "source": [
        "Resolvamos este mismo problema pero agregando más capas y más neuronas a la red por ejemplo dos capas intermedias con tres neuronas."
      ],
      "metadata": {
        "id": "Ve8yNi28-vYc"
      }
    },
    {
      "cell_type": "code",
      "source": [
        "import tensorflow as tf\n",
        "import numpy as np\n",
        "import matplotlib.pyplot as plt\n",
        "\n",
        "celsius = np.array([-40, -10, 0, 8, 15, 22, 38], dtype=float)\n",
        "fahrenheit = np.array([-40, 14, 32, 46, 59, 72, 100], dtype=float)\n",
        "\n",
        "#capa = tf.keras.layers.Dense(units=1, input_shape=[1])\n",
        "#modelo = tf.keras.Sequential([capa])\n",
        "\n",
        "oculta1 = tf.keras.layers.Dense(units=3, input_shape=[1])\n",
        "oculta2 = tf.keras.layers.Dense(units=3)\n",
        "salida = tf.keras.layers.Dense(units=1)\n",
        "modelo = tf.keras.Sequential([oculta1, oculta2, salida])\n",
        "\n",
        "modelo.compile(\n",
        "    optimizer=tf.keras.optimizers.Adam(0.1),\n",
        "    loss='mean_squared_error'\n",
        ")\n",
        "\n",
        "print(\"Comenzando entrenamiento...\")\n",
        "historial = modelo.fit(celsius, fahrenheit, epochs=1000, verbose=False)\n",
        "print(\"Modelo entrenado!\")\n",
        "\n",
        "\n",
        "plt.xlabel(\"# Epoca\")\n",
        "plt.ylabel(\"Magnitud de pérdida\")\n",
        "plt.plot(historial.history[\"loss\"])\n",
        "\n",
        "print(\"Hagamos una predicción!\")\n",
        "resultado = modelo.predict([100.0])\n",
        "print(\"El resultado es 👀👀👀👀👀\" + str(resultado) + \" fahrenheit!\")\n",
        "\n",
        "print(\"Variables internas del modelo\")\n",
        "print(capa.get_weights())\n",
        "#print(oculta1.get_weights())\n",
        "#print(oculta2.get_weights())\n",
        "#print(salida.get_weights())"
      ],
      "metadata": {
        "colab": {
          "base_uri": "https://localhost:8080/",
          "height": 401
        },
        "id": "pxtRM-lK-66r",
        "outputId": "a20d0183-d297-4eba-8ffc-b41853aac1cd"
      },
      "execution_count": 10,
      "outputs": [
        {
          "output_type": "stream",
          "name": "stdout",
          "text": [
            "Comenzando entrenamiento...\n",
            "Modelo entrenado!\n",
            "Hagamos una predicción!\n",
            "1/1 [==============================] - 0s 56ms/step\n",
            "El resultado es 👀👀👀👀👀[[211.74744]] fahrenheit!\n",
            "Variables internas del modelo\n",
            "[array([[1.798366]], dtype=float32), array([31.904358], dtype=float32)]\n"
          ]
        },
        {
          "output_type": "display_data",
          "data": {
            "text/plain": [
              "<Figure size 432x288 with 1 Axes>"
            ],
            "image/png": "[encoded data removed]"
          },
          "metadata": {
            "needs_background": "light"
          }
        }
      ]
    },
    {
      "cell_type": "code",
      "source": [
        "f=100*1.8+32\n",
        "print(f )"
      ],
      "metadata": {
        "colab": {
          "base_uri": "https://localhost:8080/"
        },
        "id": "NTDELUTAE-qA",
        "outputId": "e10bb628-e553-4e76-a9e3-44fa20d520bc"
      },
      "execution_count": 11,
      "outputs": [
        {
          "output_type": "stream",
          "name": "stdout",
          "text": [
            "212.0\n"
          ]
        }
      ]
    },
    {
      "cell_type": "markdown",
      "source": [
        "## ***RED NEURONAL PARA CONVERTIR PULGADAS A METROS***\n"
      ],
      "metadata": {
        "id": "eUt4NXxvKFPV"
      }
    },
    {
      "cell_type": "markdown",
      "source": [
        "peso sesgo optimizador métrica de pérdida "
      ],
      "metadata": {
        "id": "4_dI3HZmQoWk"
      }
    },
    {
      "cell_type": "code",
      "source": [
        "import tensorflow as tf\n",
        "import numpy as np\n",
        "import matplotlib.pyplot as plt\n",
        "\n",
        "#-----Declaramos los eventos pasados-----\n",
        "entrada = np.array([1,6,30,7,70,43,503,201,1005,99], dtype=float)\n",
        "resultados = np.array([0.0254,0.1524,0.762,0.1778,1.778,1.0922,12.776,5.1054,25.527,2.5146], dtype=float)\n",
        "#-----Topología de la red-----\n",
        "capa1 = tf.keras.layers.Dense(units=1, input_shape=[1])\n",
        "#-----Tipo de red-----\n",
        "modelo = tf.keras.Sequential([capa1])\n",
        "#-----Asignamos optimizador y métrica de pérdida-----\n",
        "modelo.compile(\n",
        "    optimizer = tf.keras.optimizers.Adam(0.1),\n",
        "    loss= 'mean_squared_error'\n",
        "    # mejor solucionar pocos grandes errores que muchos pequeños\n",
        ")\n",
        "print(\"entrenando la red💪🏼🏋🏻\")\n",
        "#-----Entrenamos el modelo-----\n",
        "entrenamiento  = modelo.fit(entrada,resultados,epochs=1000, verbose= False)\n",
        "#-----Guardar la red neuronal-----\n",
        "#modelo.save('RedNeuronal.h5')\n",
        "#modelo.save_weights('pesos.h5')\n",
        "#-----visuaización del entrenamiento-----\n",
        "plt.xlabel(\"ciclos de entrenamiento\")\n",
        "plt.ylabel(\"errores\")\n",
        "plt.plot(entrenamiento.history[\"loss\"])\n",
        "plt.show()\n",
        "\n",
        "#-----verificar que la red se entrenó-----\n",
        "print('terminó el entrenamiento 💪🏼🏋🏻')\n",
        "#-----Predicción 🔮 -----\n",
        "i=input(\"ingresar el valor en pulgadas: \")\n",
        "i=float(i)\n",
        "\n",
        "prediccion= modelo.predict([i])\n",
        "print(\"el valor en metros es: \", str(prediccion))\n"
      ],
      "metadata": {
        "colab": {
          "base_uri": "https://localhost:8080/",
          "height": 403
        },
        "id": "2mA5TejiK5M4",
        "outputId": "d1fbec26-9d30-424c-f439-edfc39ffa6bd"
      },
      "execution_count": 15,
      "outputs": [
        {
          "output_type": "stream",
          "name": "stdout",
          "text": [
            "entrenando la red💪🏼🏋🏻\n"
          ]
        },
        {
          "output_type": "display_data",
          "data": {
            "text/plain": [
              "<Figure size 432x288 with 1 Axes>"
            ],
            "image/png": "[encoded data removed]"
          },
          "metadata": {
            "needs_background": "light"
          }
        },
        {
          "name": "stdout",
          "output_type": "stream",
          "text": [
            "terminó el entrenamiento 💪🏼🏋🏻\n",
            "ingresar el valor en pulgadas: 654\n"
          ]
        },
        {
          "output_type": "stream",
          "name": "stderr",
          "text": [
            "WARNING:tensorflow:5 out of the last 5 calls to <function Model.make_predict_function.<locals>.predict_function at 0x7f9bafd5b0e0> triggered tf.function retracing. Tracing is expensive and the excessive number of tracings could be due to (1) creating @tf.function repeatedly in a loop, (2) passing tensors with different shapes, (3) passing Python objects instead of tensors. For (1), please define your @tf.function outside of the loop. For (2), @tf.function has reduce_retracing=True option that can avoid unnecessary retracing. For (3), please refer to https://www.tensorflow.org/guide/function#controlling_retracing and https://www.tensorflow.org/api_docs/python/tf/function for  more details.\n"
          ]
        },
        {
          "output_type": "stream",
          "name": "stdout",
          "text": [
            "1/1 [==============================] - 0s 50ms/step\n",
            "el valor en metros es:  [[16.611547]]\n"
          ]
        }
      ]
    },
    {
      "cell_type": "code",
      "source": [
        "m=654 / 39.3700787\n",
        "print(m)"
      ],
      "metadata": {
        "colab": {
          "base_uri": "https://localhost:8080/"
        },
        "id": "BfRChZdl7SoR",
        "outputId": "8c17080d-3bed-420a-bd9a-16ce131315ea"
      },
      "execution_count": 14,
      "outputs": [
        {
          "output_type": "stream",
          "name": "stdout",
          "text": [
            "16.611600016943832\n"
          ]
        }
      ]
    }
  ]
}